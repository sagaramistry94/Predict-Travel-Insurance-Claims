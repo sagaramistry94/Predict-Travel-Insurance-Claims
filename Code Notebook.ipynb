{
 "cells": [
  {
   "cell_type": "markdown",
   "metadata": {},
   "source": [
    "# Understanding the dataset\n",
    "\n",
    "\n",
    "**Data Set Information:**\n",
    "\n",
    "The training dataset consists of data corresponding to 50553 customers and the test dataset consists of 12661 customers.\n",
    "\n",
    "\n",
    "**Features:**\n",
    "\n",
    "• Target: Claim Status (Claim) \n",
    "• Name of agency (Agency) \n",
    "• Type of travel insurance agencies (Agency Type) \n",
    "• Distribution channel of travel insurance agencies (Distribution Channel) \n",
    "• Name of the travel insurance products (Product Name) \n",
    "• Duration of travel (Duration) • Destination of travel (Destination) \n",
    "• Amount of sales of travel insurance policies (Net Sales) \n",
    "• The commission received for travel insurance agency (Commission) \n",
    "• Gender of insured (Gender) \n",
    "• Age of insured (Age)\n",
    "\n",
    "**Output variable (desired target):**  \n",
    "\n",
    "|Feature|Feature_Type|Description|\n",
    "|-----|-----|-----|\n",
    "|Claim | binary| ('1','0')|"
   ]
  },
  {
   "cell_type": "markdown",
   "metadata": {},
   "source": [
    "# Exploratory Data Analysis & Data Pre Processing"
   ]
  },
  {
   "cell_type": "markdown",
   "metadata": {},
   "source": [
    "###  Importing necessary libraries"
   ]
  },
  {
   "cell_type": "code",
   "execution_count": 1,
   "metadata": {},
   "outputs": [],
   "source": [
    "import numpy as np\n",
    "import pandas as pd\n",
    "import matplotlib.pyplot as plt\n",
    "import seaborn as sns\n",
    "%matplotlib inline\n",
    "import warnings\n",
    "warnings.filterwarnings('ignore')"
   ]
  },
  {
   "cell_type": "markdown",
   "metadata": {},
   "source": [
    "### Loading Data Modelling Libraries"
   ]
  },
  {
   "cell_type": "code",
   "execution_count": 2,
   "metadata": {},
   "outputs": [],
   "source": [
    "from sklearn.preprocessing import LabelEncoder\n",
    "from sklearn.linear_model import LogisticRegression\n",
    "from sklearn.tree import DecisionTreeClassifier\n",
    "from sklearn.ensemble import GradientBoostingClassifier ,RandomForestClassifier ,GradientBoostingClassifier\n",
    "from xgboost import XGBClassifier \n",
    "from sklearn.model_selection import GridSearchCV, RandomizedSearchCV\n",
    "from sklearn.linear_model import Ridge,Lasso\n",
    "from sklearn.metrics import roc_auc_score ,mean_squared_error,accuracy_score,classification_report,roc_curve,confusion_matrix,precision_score\n",
    "import warnings\n",
    "warnings.filterwarnings('ignore')\n",
    "from scipy.stats.mstats import winsorize\n",
    "from sklearn.feature_selection import RFE\n",
    "from sklearn.model_selection import train_test_split\n",
    "from sklearn.preprocessing import StandardScaler\n",
    "from sklearn.decomposition import PCA \n",
    "from sklearn.model_selection import KFold\n",
    "from sklearn.preprocessing import MinMaxScaler\n",
    "from sklearn.svm import SVR\n",
    "from sklearn.metrics import confusion_matrix, accuracy_score, classification_report\n",
    "from sklearn.preprocessing import LabelEncoder\n",
    "from imblearn.over_sampling import SMOTE"
   ]
  },
  {
   "cell_type": "markdown",
   "metadata": {},
   "source": [
    "### Load and Prepare dataset\n",
    "- Load the dataframe using pandas. \n",
    "- Seperate the features and target."
   ]
  },
  {
   "cell_type": "code",
   "execution_count": 3,
   "metadata": {},
   "outputs": [
    {
     "data": {
      "text/html": [
       "<div>\n",
       "<style scoped>\n",
       "    .dataframe tbody tr th:only-of-type {\n",
       "        vertical-align: middle;\n",
       "    }\n",
       "\n",
       "    .dataframe tbody tr th {\n",
       "        vertical-align: top;\n",
       "    }\n",
       "\n",
       "    .dataframe thead th {\n",
       "        text-align: right;\n",
       "    }\n",
       "</style>\n",
       "<table border=\"1\" class=\"dataframe\">\n",
       "  <thead>\n",
       "    <tr style=\"text-align: right;\">\n",
       "      <th></th>\n",
       "      <th>ID</th>\n",
       "      <th>Agency</th>\n",
       "      <th>Agency Type</th>\n",
       "      <th>Distribution Channel</th>\n",
       "      <th>Product Name</th>\n",
       "      <th>Duration</th>\n",
       "      <th>Destination</th>\n",
       "      <th>Net Sales</th>\n",
       "      <th>Commision (in value)</th>\n",
       "      <th>Gender</th>\n",
       "      <th>Age</th>\n",
       "    </tr>\n",
       "  </thead>\n",
       "  <tbody>\n",
       "    <tr>\n",
       "      <td>0</td>\n",
       "      <td>3433</td>\n",
       "      <td>CWT</td>\n",
       "      <td>Travel Agency</td>\n",
       "      <td>Online</td>\n",
       "      <td>Rental Vehicle Excess Insurance</td>\n",
       "      <td>7</td>\n",
       "      <td>MALAYSIA</td>\n",
       "      <td>0.0</td>\n",
       "      <td>17.82</td>\n",
       "      <td>NaN</td>\n",
       "      <td>31</td>\n",
       "    </tr>\n",
       "    <tr>\n",
       "      <td>1</td>\n",
       "      <td>4339</td>\n",
       "      <td>EPX</td>\n",
       "      <td>Travel Agency</td>\n",
       "      <td>Online</td>\n",
       "      <td>Cancellation Plan</td>\n",
       "      <td>85</td>\n",
       "      <td>SINGAPORE</td>\n",
       "      <td>69.0</td>\n",
       "      <td>0.00</td>\n",
       "      <td>NaN</td>\n",
       "      <td>36</td>\n",
       "    </tr>\n",
       "    <tr>\n",
       "      <td>2</td>\n",
       "      <td>34590</td>\n",
       "      <td>CWT</td>\n",
       "      <td>Travel Agency</td>\n",
       "      <td>Online</td>\n",
       "      <td>Rental Vehicle Excess Insurance</td>\n",
       "      <td>11</td>\n",
       "      <td>MALAYSIA</td>\n",
       "      <td>19.8</td>\n",
       "      <td>11.88</td>\n",
       "      <td>NaN</td>\n",
       "      <td>75</td>\n",
       "    </tr>\n",
       "    <tr>\n",
       "      <td>3</td>\n",
       "      <td>55816</td>\n",
       "      <td>EPX</td>\n",
       "      <td>Travel Agency</td>\n",
       "      <td>Online</td>\n",
       "      <td>2 way Comprehensive Plan</td>\n",
       "      <td>16</td>\n",
       "      <td>INDONESIA</td>\n",
       "      <td>20.0</td>\n",
       "      <td>0.00</td>\n",
       "      <td>NaN</td>\n",
       "      <td>32</td>\n",
       "    </tr>\n",
       "    <tr>\n",
       "      <td>4</td>\n",
       "      <td>13816</td>\n",
       "      <td>EPX</td>\n",
       "      <td>Travel Agency</td>\n",
       "      <td>Online</td>\n",
       "      <td>Cancellation Plan</td>\n",
       "      <td>10</td>\n",
       "      <td>KOREA, REPUBLIC OF</td>\n",
       "      <td>15.0</td>\n",
       "      <td>0.00</td>\n",
       "      <td>NaN</td>\n",
       "      <td>29</td>\n",
       "    </tr>\n",
       "  </tbody>\n",
       "</table>\n",
       "</div>"
      ],
      "text/plain": [
       "      ID Agency    Agency Type Distribution Channel  \\\n",
       "0   3433    CWT  Travel Agency               Online   \n",
       "1   4339    EPX  Travel Agency               Online   \n",
       "2  34590    CWT  Travel Agency               Online   \n",
       "3  55816    EPX  Travel Agency               Online   \n",
       "4  13816    EPX  Travel Agency               Online   \n",
       "\n",
       "                      Product Name  Duration         Destination  Net Sales  \\\n",
       "0  Rental Vehicle Excess Insurance         7            MALAYSIA        0.0   \n",
       "1                Cancellation Plan        85           SINGAPORE       69.0   \n",
       "2  Rental Vehicle Excess Insurance        11            MALAYSIA       19.8   \n",
       "3         2 way Comprehensive Plan        16           INDONESIA       20.0   \n",
       "4                Cancellation Plan        10  KOREA, REPUBLIC OF       15.0   \n",
       "\n",
       "   Commision (in value) Gender  Age  \n",
       "0                 17.82    NaN   31  \n",
       "1                  0.00    NaN   36  \n",
       "2                 11.88    NaN   75  \n",
       "3                  0.00    NaN   32  \n",
       "4                  0.00    NaN   29  "
      ]
     },
     "execution_count": 3,
     "metadata": {},
     "output_type": "execute_result"
    }
   ],
   "source": [
    "# Load the dataframe\n",
    "insure_df=pd.read_csv(\"./train.csv\")\n",
    "\n",
    "# Seperate the features and target\n",
    "target = insure_df['Claim']\n",
    "predictors = insure_df.drop(['Claim'],axis=1)\n",
    "df_test=pd.read_csv(\"./test.csv\")\n",
    "predictors.head()"
   ]
  },
  {
   "cell_type": "markdown",
   "metadata": {},
   "source": [
    "### Check Numeric and Categorical Features\n",
    "- The given dataset contains both continuous and categorical features.\n",
    "- Wrote two functions - one which return column names of only the continuous variables and the other which return all the categorical features in the dataset."
   ]
  },
  {
   "cell_type": "code",
   "execution_count": 4,
   "metadata": {},
   "outputs": [
    {
     "name": "stdout",
     "output_type": "stream",
     "text": [
      "Numeric Features:\n",
      "Index(['ID', 'Duration', 'Net Sales', 'Commision (in value)', 'Age'], dtype='object')\n",
      "================================================================================\n",
      "Categorical Features:\n",
      "Index(['Agency', 'Agency Type', 'Distribution Channel', 'Product Name',\n",
      "       'Destination', 'Gender'],\n",
      "      dtype='object')\n"
     ]
    }
   ],
   "source": [
    "# Function to identify numeric features\n",
    "def numeric_features(dataset):\n",
    "    numeric_col = dataset.select_dtypes(include=['number']).columns\n",
    "    return numeric_col\n",
    "\n",
    "numeric_columns = numeric_features(predictors)\n",
    "print(\"Numeric Features:\")\n",
    "print(numeric_columns)\n",
    "print(\"====\"*20)\n",
    "\n",
    "# Function to identify categorical features\n",
    "def categorical_features(dataset):\n",
    "    categorical_col = dataset.select_dtypes(exclude=['number']).columns\n",
    "    return categorical_col\n",
    "\n",
    "categorical_columns = categorical_features(predictors)\n",
    "print(\"Categorical Features:\")\n",
    "print(categorical_columns)"
   ]
  },
  {
   "cell_type": "markdown",
   "metadata": {},
   "source": [
    "### Check Missing Data \n",
    "- Wrote a function that calculates the total missing values and the percentage of missing values in every feature of the dataset\n",
    "- The above function returns a dataframe consisting of the feature names as index and two columns having the count and percentage of missing values in that feature."
   ]
  },
  {
   "cell_type": "code",
   "execution_count": 5,
   "metadata": {},
   "outputs": [
    {
     "name": "stdout",
     "output_type": "stream",
     "text": [
      "                      Total   Percent\n",
      "Gender                35953  0.711194\n",
      "Age                       0  0.000000\n",
      "Commision (in value)      0  0.000000\n",
      "Net Sales                 0  0.000000\n",
      "Destination               0  0.000000\n",
      "Duration                  0  0.000000\n",
      "Product Name              0  0.000000\n",
      "Distribution Channel      0  0.000000\n",
      "Agency Type               0  0.000000\n",
      "Agency                    0  0.000000\n",
      "ID                        0  0.000000\n"
     ]
    }
   ],
   "source": [
    "# Function to identify the number of missing values in every feature of Train dataset\n",
    "def missing_datas(dataset):\n",
    "    total = dataset.isnull().sum().sort_values(ascending=False)\n",
    "    percent = (dataset.isnull().sum()/dataset.isnull().count()).sort_values(ascending=False)\n",
    "    missing_data = pd.concat([total, percent], axis=1, keys=['Total', 'Percent'])\n",
    "    return missing_data\n",
    "    \n",
    "missing_data = missing_datas(predictors)\n",
    "print(missing_data)"
   ]
  },
  {
   "cell_type": "code",
   "execution_count": 6,
   "metadata": {},
   "outputs": [
    {
     "name": "stdout",
     "output_type": "stream",
     "text": [
      "                      Total   Percent\n",
      "Gender                 9056  0.715267\n",
      "Age                       0  0.000000\n",
      "Commision (in value)      0  0.000000\n",
      "Net Sales                 0  0.000000\n",
      "Destination               0  0.000000\n",
      "Duration                  0  0.000000\n",
      "Product Name              0  0.000000\n",
      "Distribution Channel      0  0.000000\n",
      "Agency Type               0  0.000000\n",
      "Agency                    0  0.000000\n",
      "ID                        0  0.000000\n"
     ]
    }
   ],
   "source": [
    "# Function to identify the number of missing values in every feature of Test dataset\n",
    "missing_data = missing_datas(df_test)\n",
    "print(missing_data)"
   ]
  },
  {
   "cell_type": "markdown",
   "metadata": {},
   "source": [
    "### Dropping / Imputing Missing Values\n",
    "\n",
    "Since more than 50% of the Gender data is missing in both train and test data, we will drop the feature instead of imputing it"
   ]
  },
  {
   "cell_type": "code",
   "execution_count": 7,
   "metadata": {},
   "outputs": [],
   "source": [
    "predictors.drop(['Gender', 'ID'], axis=1, inplace= True)\n",
    "df_test.drop(['ID','Gender'], axis=1, inplace= True)"
   ]
  },
  {
   "cell_type": "code",
   "execution_count": 8,
   "metadata": {},
   "outputs": [
    {
     "data": {
      "text/html": [
       "<div>\n",
       "<style scoped>\n",
       "    .dataframe tbody tr th:only-of-type {\n",
       "        vertical-align: middle;\n",
       "    }\n",
       "\n",
       "    .dataframe tbody tr th {\n",
       "        vertical-align: top;\n",
       "    }\n",
       "\n",
       "    .dataframe thead th {\n",
       "        text-align: right;\n",
       "    }\n",
       "</style>\n",
       "<table border=\"1\" class=\"dataframe\">\n",
       "  <thead>\n",
       "    <tr style=\"text-align: right;\">\n",
       "      <th></th>\n",
       "      <th>Agency</th>\n",
       "      <th>Agency Type</th>\n",
       "      <th>Distribution Channel</th>\n",
       "      <th>Product Name</th>\n",
       "      <th>Duration</th>\n",
       "      <th>Destination</th>\n",
       "      <th>Net Sales</th>\n",
       "      <th>Commision (in value)</th>\n",
       "      <th>Age</th>\n",
       "    </tr>\n",
       "  </thead>\n",
       "  <tbody>\n",
       "    <tr>\n",
       "      <td>0</td>\n",
       "      <td>CWT</td>\n",
       "      <td>Travel Agency</td>\n",
       "      <td>Online</td>\n",
       "      <td>Rental Vehicle Excess Insurance</td>\n",
       "      <td>7</td>\n",
       "      <td>MALAYSIA</td>\n",
       "      <td>0.0</td>\n",
       "      <td>17.82</td>\n",
       "      <td>31</td>\n",
       "    </tr>\n",
       "    <tr>\n",
       "      <td>1</td>\n",
       "      <td>EPX</td>\n",
       "      <td>Travel Agency</td>\n",
       "      <td>Online</td>\n",
       "      <td>Cancellation Plan</td>\n",
       "      <td>85</td>\n",
       "      <td>SINGAPORE</td>\n",
       "      <td>69.0</td>\n",
       "      <td>0.00</td>\n",
       "      <td>36</td>\n",
       "    </tr>\n",
       "    <tr>\n",
       "      <td>2</td>\n",
       "      <td>CWT</td>\n",
       "      <td>Travel Agency</td>\n",
       "      <td>Online</td>\n",
       "      <td>Rental Vehicle Excess Insurance</td>\n",
       "      <td>11</td>\n",
       "      <td>MALAYSIA</td>\n",
       "      <td>19.8</td>\n",
       "      <td>11.88</td>\n",
       "      <td>75</td>\n",
       "    </tr>\n",
       "    <tr>\n",
       "      <td>3</td>\n",
       "      <td>EPX</td>\n",
       "      <td>Travel Agency</td>\n",
       "      <td>Online</td>\n",
       "      <td>2 way Comprehensive Plan</td>\n",
       "      <td>16</td>\n",
       "      <td>INDONESIA</td>\n",
       "      <td>20.0</td>\n",
       "      <td>0.00</td>\n",
       "      <td>32</td>\n",
       "    </tr>\n",
       "    <tr>\n",
       "      <td>4</td>\n",
       "      <td>EPX</td>\n",
       "      <td>Travel Agency</td>\n",
       "      <td>Online</td>\n",
       "      <td>Cancellation Plan</td>\n",
       "      <td>10</td>\n",
       "      <td>KOREA, REPUBLIC OF</td>\n",
       "      <td>15.0</td>\n",
       "      <td>0.00</td>\n",
       "      <td>29</td>\n",
       "    </tr>\n",
       "  </tbody>\n",
       "</table>\n",
       "</div>"
      ],
      "text/plain": [
       "  Agency    Agency Type Distribution Channel                     Product Name  \\\n",
       "0    CWT  Travel Agency               Online  Rental Vehicle Excess Insurance   \n",
       "1    EPX  Travel Agency               Online                Cancellation Plan   \n",
       "2    CWT  Travel Agency               Online  Rental Vehicle Excess Insurance   \n",
       "3    EPX  Travel Agency               Online         2 way Comprehensive Plan   \n",
       "4    EPX  Travel Agency               Online                Cancellation Plan   \n",
       "\n",
       "   Duration         Destination  Net Sales  Commision (in value)  Age  \n",
       "0         7            MALAYSIA        0.0                 17.82   31  \n",
       "1        85           SINGAPORE       69.0                  0.00   36  \n",
       "2        11            MALAYSIA       19.8                 11.88   75  \n",
       "3        16           INDONESIA       20.0                  0.00   32  \n",
       "4        10  KOREA, REPUBLIC OF       15.0                  0.00   29  "
      ]
     },
     "execution_count": 8,
     "metadata": {},
     "output_type": "execute_result"
    }
   ],
   "source": [
    "predictors.head()"
   ]
  },
  {
   "cell_type": "markdown",
   "metadata": {},
   "source": [
    "### Check for Class Imbalance\n",
    "Check the class distribution of all the classes in the target. If an imbalance exists, we will deal with it by applying SMOTE in the later stages."
   ]
  },
  {
   "cell_type": "code",
   "execution_count": 9,
   "metadata": {},
   "outputs": [
    {
     "data": {
      "text/plain": [
       "0    98.534212\n",
       "1     1.465788\n",
       "Name: Claim, dtype: float64"
      ]
     },
     "execution_count": 9,
     "metadata": {},
     "output_type": "execute_result"
    }
   ],
   "source": [
    "def class_imbalance(target):\n",
    "    class_values = (target.value_counts()/target.value_counts().sum())*100\n",
    "    return class_values\n",
    "\n",
    "class_imbalance(target)"
   ]
  },
  {
   "cell_type": "markdown",
   "metadata": {},
   "source": [
    "The distribution 99:1 is a clear indication of imbalance in the classes. "
   ]
  },
  {
   "cell_type": "markdown",
   "metadata": {},
   "source": [
    "### Univariate analysis of Categorical columns\n",
    "- Wrote a function that plots the frequency of the values of all the categorical variables"
   ]
  },
  {
   "cell_type": "code",
   "execution_count": 10,
   "metadata": {},
   "outputs": [
    {
     "data": {
      "image/png": "[encoded data removed]",
      "text/plain": [
       "<Figure size 432x288 with 1 Axes>"
      ]
     },
     "metadata": {
      "needs_background": "light"
     },
     "output_type": "display_data"
    },
    {
     "data": {
      "image/png": "[encoded data removed]",
      "text/plain": [
       "<Figure size 432x288 with 1 Axes>"
      ]
     },
     "metadata": {
      "needs_background": "light"
     },
     "output_type": "display_data"
    },
    {
     "data": {
      "image/png": "[encoded data removed]",
      "text/plain": [
       "<Figure size 432x288 with 1 Axes>"
      ]
     },
     "metadata": {
      "needs_background": "light"
     },
     "output_type": "display_data"
    },
    {
     "data": {
      "image/png": "[encoded data removed]",
      "text/plain": [
       "<Figure size 432x288 with 1 Axes>"
      ]
     },
     "metadata": {
      "needs_background": "light"
     },
     "output_type": "display_data"
    },
    {
     "data": {
      "image/png": "[encoded data removed]",
      "text/plain": [
       "<Figure size 432x288 with 1 Axes>"
      ]
     },
     "metadata": {
      "needs_background": "light"
     },
     "output_type": "display_data"
    }
   ],
   "source": [
    "# Function to perform univariate analysis of categorical columns\n",
    "def plot_categorical_columns(dataframe):\n",
    "    categorical_columns = categorical_features(dataframe)\n",
    "    dataframe = dataframe[categorical_columns]\n",
    "    for i in dataframe:\n",
    "        plt.title(i)\n",
    "        dataframe[i].value_counts(normalize=True).plot(kind='bar')\n",
    "        plt.show()\n",
    "\n",
    "plot = plot_categorical_columns(predictors)"
   ]
  },
  {
   "cell_type": "markdown",
   "metadata": {},
   "source": [
    "### Univariate analysis of Continuous columns\n",
    "- Construct two functions, one that plots a histogram of all the continuous features and other that plots a boxplot of the same. Histograms are great for plotting the distribution of the data and boxplots are the best choice for visualizing outliers."
   ]
  },
  {
   "cell_type": "code",
   "execution_count": 11,
   "metadata": {},
   "outputs": [
    {
     "data": {
      "image/png": "[encoded data removed]",
      "text/plain": [
       "<Figure size 720x288 with 2 Axes>"
      ]
     },
     "metadata": {
      "needs_background": "light"
     },
     "output_type": "display_data"
    },
    {
     "data": {
      "image/png": "[encoded data removed]",
      "text/plain": [
       "<Figure size 720x288 with 2 Axes>"
      ]
     },
     "metadata": {
      "needs_background": "light"
     },
     "output_type": "display_data"
    },
    {
     "data": {
      "image/png": "[encoded data removed]",
      "text/plain": [
       "<Figure size 720x288 with 2 Axes>"
      ]
     },
     "metadata": {
      "needs_background": "light"
     },
     "output_type": "display_data"
    },
    {
     "data": {
      "image/png": "[encoded data removed]",
      "text/plain": [
       "<Figure size 720x288 with 2 Axes>"
      ]
     },
     "metadata": {
      "needs_background": "light"
     },
     "output_type": "display_data"
    }
   ],
   "source": [
    "# Function to plot histograms of Continuous columns\n",
    "def plot_continuous_columns(dataframe):\n",
    "    numeric_columns = numeric_features(dataframe)\n",
    "    dataframe = dataframe[numeric_columns]\n",
    "    \n",
    "    for i in range(0,len(numeric_columns),2):\n",
    "        if len(numeric_columns) > i+1:\n",
    "            plt.figure(figsize=(10,4))\n",
    "            plt.subplot(121)\n",
    "            sns.distplot(dataframe[numeric_columns[i]], kde=False)\n",
    "            plt.subplot(122)            \n",
    "            sns.distplot(dataframe[numeric_columns[i+1]], kde=False)\n",
    "            plt.tight_layout()\n",
    "            plt.show()\n",
    "\n",
    "        else:\n",
    "            sns.distplot(dataframe[numeric_columns[i]], kde=False)\n",
    "\n",
    "# Function to plot boxplots of Continuous columns\n",
    "def plot_box_plots(dataframe):\n",
    "    numeric_columns = numeric_features(dataframe)\n",
    "    dataframe = dataframe[numeric_columns]\n",
    "    \n",
    "    for i in range(0,len(numeric_columns),2):\n",
    "        if len(numeric_columns) > i+1:\n",
    "            plt.figure(figsize=(10,4))\n",
    "            plt.subplot(121)\n",
    "            sns.boxplot(dataframe[numeric_columns[i]])\n",
    "            plt.subplot(122)            \n",
    "            sns.boxplot(dataframe[numeric_columns[i+1]])\n",
    "            plt.tight_layout()\n",
    "            plt.show()\n",
    "\n",
    "        else:\n",
    "            sns.boxplot(dataframe[numeric_columns[i]])\n",
    "\n",
    "plot_continuous_columns(predictors)            \n",
    "plot_box_plots(predictors)"
   ]
  },
  {
   "cell_type": "markdown",
   "metadata": {},
   "source": [
    "### Bivariate Analysis - Categorical Columns"
   ]
  },
  {
   "cell_type": "code",
   "execution_count": 12,
   "metadata": {},
   "outputs": [
    {
     "data": {
      "image/png": "[encoded data removed]",
      "text/plain": [
       "<Figure size 432x288 with 1 Axes>"
      ]
     },
     "metadata": {
      "needs_background": "light"
     },
     "output_type": "display_data"
    },
    {
     "data": {
      "image/png": "[encoded data removed]",
      "text/plain": [
       "<Figure size 432x288 with 1 Axes>"
      ]
     },
     "metadata": {
      "needs_background": "light"
     },
     "output_type": "display_data"
    },
    {
     "data": {
      "image/png": "[encoded data removed]",
      "text/plain": [
       "<Figure size 432x288 with 1 Axes>"
      ]
     },
     "metadata": {
      "needs_background": "light"
     },
     "output_type": "display_data"
    },
    {
     "data": {
      "image/png": "[encoded data removed]",
      "text/plain": [
       "<Figure size 432x288 with 1 Axes>"
      ]
     },
     "metadata": {
      "needs_background": "light"
     },
     "output_type": "display_data"
    },
    {
     "data": {
      "image/png": "[encoded data removed]",
      "text/plain": [
       "<Figure size 432x288 with 1 Axes>"
      ]
     },
     "metadata": {
      "needs_background": "light"
     },
     "output_type": "display_data"
    }
   ],
   "source": [
    "def bivariate_analysis_categorical(dataframe,target):\n",
    "    cols = list(dataframe)\n",
    "    for col in cols:\n",
    "        if col in dataframe.select_dtypes(exclude=np.number).columns:\n",
    "            sns.countplot(x=dataframe[col],hue=target,data=dataframe)\n",
    "            plt.xticks(rotation='vertical')\n",
    "            plt.show()\n",
    "\n",
    "bivariate_analysis_categorical(predictors,target)"
   ]
  },
  {
   "cell_type": "markdown",
   "metadata": {},
   "source": [
    "### Detect outliers in the continuous columns\n",
    "- Wrote a function that will output the number of outliers in every numeric feature based on 1.5*IQR method"
   ]
  },
  {
   "cell_type": "code",
   "execution_count": 13,
   "metadata": {},
   "outputs": [
    {
     "name": "stdout",
     "output_type": "stream",
     "text": [
      "Duration --------- 4465\n",
      "Net Sales --------- 4444\n",
      "Commision (in value) --------- 5629\n",
      "Age --------- 4702\n"
     ]
    }
   ],
   "source": [
    "# Function to detect outliers in every feature\n",
    "def detect_outliers(dataframe):\n",
    "    cols = list(dataframe)\n",
    "    \n",
    "    for column in cols:\n",
    "        if column in dataframe.select_dtypes(include=np.number).columns:\n",
    "            q1 = dataframe[column].quantile(0.25)\n",
    "            q3 = dataframe[column].quantile(0.75)\n",
    "            iqr = q3 - q1\n",
    "            fence_low = q1 - (1.5*iqr)\n",
    "            fence_high = q3 + (1.5*iqr)\n",
    "\n",
    "            print(column + ' ---------', dataframe.loc[(dataframe[column] < fence_low) | (dataframe[column] > fence_high)].shape[0])\n",
    "\n",
    "detect_outliers(predictors)"
   ]
  },
  {
   "cell_type": "markdown",
   "metadata": {},
   "source": [
    "### Treat outliers in the continuous columns\n",
    "- Outliers can be treated in a variety of ways. It depends on the skewness of the feature.\n",
    "- Outliers in Age and Duration are replaced with Mean values"
   ]
  },
  {
   "cell_type": "code",
   "execution_count": 14,
   "metadata": {},
   "outputs": [
    {
     "data": {
      "text/plain": [
       "Duration                22.872743\n",
       "Net Sales                3.328243\n",
       "Commision (in value)     4.078189\n",
       "Age                      2.978478\n",
       "dtype: float64"
      ]
     },
     "execution_count": 14,
     "metadata": {},
     "output_type": "execute_result"
    }
   ],
   "source": [
    "predictors.skew()"
   ]
  },
  {
   "cell_type": "code",
   "execution_count": 15,
   "metadata": {},
   "outputs": [],
   "source": [
    "#Replacing outliers from Age with Mean value\n",
    "predictors['Age'] = predictors['Age'].replace(to_replace = 118, value = 88)\n",
    "\n",
    "df_test['Age']=df_test['Age'].replace(to_replace=118,value=88)"
   ]
  },
  {
   "cell_type": "code",
   "execution_count": 16,
   "metadata": {},
   "outputs": [],
   "source": [
    "#Replacing outliers from Duration with Mean value\n",
    "predictors.Duration[predictors['Duration']>1000]=60\n",
    "df_test.Duration[df_test['Duration'] > 1000]= 60"
   ]
  },
  {
   "cell_type": "code",
   "execution_count": 17,
   "metadata": {},
   "outputs": [
    {
     "data": {
      "text/html": [
       "<div>\n",
       "<style scoped>\n",
       "    .dataframe tbody tr th:only-of-type {\n",
       "        vertical-align: middle;\n",
       "    }\n",
       "\n",
       "    .dataframe tbody tr th {\n",
       "        vertical-align: top;\n",
       "    }\n",
       "\n",
       "    .dataframe thead th {\n",
       "        text-align: right;\n",
       "    }\n",
       "</style>\n",
       "<table border=\"1\" class=\"dataframe\">\n",
       "  <thead>\n",
       "    <tr style=\"text-align: right;\">\n",
       "      <th></th>\n",
       "      <th>Duration</th>\n",
       "      <th>Net Sales</th>\n",
       "      <th>Commision (in value)</th>\n",
       "      <th>Age</th>\n",
       "    </tr>\n",
       "  </thead>\n",
       "  <tbody>\n",
       "    <tr>\n",
       "      <td>count</td>\n",
       "      <td>50553.000000</td>\n",
       "      <td>50553.000000</td>\n",
       "      <td>50553.00000</td>\n",
       "      <td>50553.000000</td>\n",
       "    </tr>\n",
       "    <tr>\n",
       "      <td>mean</td>\n",
       "      <td>48.405930</td>\n",
       "      <td>40.800977</td>\n",
       "      <td>9.83809</td>\n",
       "      <td>39.539454</td>\n",
       "    </tr>\n",
       "    <tr>\n",
       "      <td>std</td>\n",
       "      <td>74.042783</td>\n",
       "      <td>48.899683</td>\n",
       "      <td>19.91004</td>\n",
       "      <td>11.768262</td>\n",
       "    </tr>\n",
       "    <tr>\n",
       "      <td>min</td>\n",
       "      <td>-2.000000</td>\n",
       "      <td>-389.000000</td>\n",
       "      <td>0.00000</td>\n",
       "      <td>0.000000</td>\n",
       "    </tr>\n",
       "    <tr>\n",
       "      <td>25%</td>\n",
       "      <td>9.000000</td>\n",
       "      <td>18.000000</td>\n",
       "      <td>0.00000</td>\n",
       "      <td>35.000000</td>\n",
       "    </tr>\n",
       "    <tr>\n",
       "      <td>50%</td>\n",
       "      <td>22.000000</td>\n",
       "      <td>26.500000</td>\n",
       "      <td>0.00000</td>\n",
       "      <td>36.000000</td>\n",
       "    </tr>\n",
       "    <tr>\n",
       "      <td>75%</td>\n",
       "      <td>53.000000</td>\n",
       "      <td>48.000000</td>\n",
       "      <td>11.55000</td>\n",
       "      <td>44.000000</td>\n",
       "    </tr>\n",
       "    <tr>\n",
       "      <td>max</td>\n",
       "      <td>740.000000</td>\n",
       "      <td>810.000000</td>\n",
       "      <td>283.50000</td>\n",
       "      <td>88.000000</td>\n",
       "    </tr>\n",
       "  </tbody>\n",
       "</table>\n",
       "</div>"
      ],
      "text/plain": [
       "           Duration     Net Sales  Commision (in value)           Age\n",
       "count  50553.000000  50553.000000           50553.00000  50553.000000\n",
       "mean      48.405930     40.800977               9.83809     39.539454\n",
       "std       74.042783     48.899683              19.91004     11.768262\n",
       "min       -2.000000   -389.000000               0.00000      0.000000\n",
       "25%        9.000000     18.000000               0.00000     35.000000\n",
       "50%       22.000000     26.500000               0.00000     36.000000\n",
       "75%       53.000000     48.000000              11.55000     44.000000\n",
       "max      740.000000    810.000000             283.50000     88.000000"
      ]
     },
     "execution_count": 17,
     "metadata": {},
     "output_type": "execute_result"
    }
   ],
   "source": [
    "predictors.describe()"
   ]
  },
  {
   "cell_type": "code",
   "execution_count": 18,
   "metadata": {},
   "outputs": [
    {
     "data": {
      "text/html": [
       "<div>\n",
       "<style scoped>\n",
       "    .dataframe tbody tr th:only-of-type {\n",
       "        vertical-align: middle;\n",
       "    }\n",
       "\n",
       "    .dataframe tbody tr th {\n",
       "        vertical-align: top;\n",
       "    }\n",
       "\n",
       "    .dataframe thead th {\n",
       "        text-align: right;\n",
       "    }\n",
       "</style>\n",
       "<table border=\"1\" class=\"dataframe\">\n",
       "  <thead>\n",
       "    <tr style=\"text-align: right;\">\n",
       "      <th></th>\n",
       "      <th>Duration</th>\n",
       "      <th>Net Sales</th>\n",
       "      <th>Commision (in value)</th>\n",
       "      <th>Age</th>\n",
       "    </tr>\n",
       "  </thead>\n",
       "  <tbody>\n",
       "    <tr>\n",
       "      <td>count</td>\n",
       "      <td>12661.000000</td>\n",
       "      <td>12661.000000</td>\n",
       "      <td>12661.000000</td>\n",
       "      <td>12661.000000</td>\n",
       "    </tr>\n",
       "    <tr>\n",
       "      <td>mean</td>\n",
       "      <td>47.796304</td>\n",
       "      <td>40.148315</td>\n",
       "      <td>9.716776</td>\n",
       "      <td>39.375563</td>\n",
       "    </tr>\n",
       "    <tr>\n",
       "      <td>std</td>\n",
       "      <td>72.948089</td>\n",
       "      <td>48.686831</td>\n",
       "      <td>19.401245</td>\n",
       "      <td>11.571166</td>\n",
       "    </tr>\n",
       "    <tr>\n",
       "      <td>min</td>\n",
       "      <td>-1.000000</td>\n",
       "      <td>-357.500000</td>\n",
       "      <td>0.000000</td>\n",
       "      <td>1.000000</td>\n",
       "    </tr>\n",
       "    <tr>\n",
       "      <td>25%</td>\n",
       "      <td>9.000000</td>\n",
       "      <td>18.000000</td>\n",
       "      <td>0.000000</td>\n",
       "      <td>35.000000</td>\n",
       "    </tr>\n",
       "    <tr>\n",
       "      <td>50%</td>\n",
       "      <td>22.000000</td>\n",
       "      <td>26.500000</td>\n",
       "      <td>0.000000</td>\n",
       "      <td>36.000000</td>\n",
       "    </tr>\n",
       "    <tr>\n",
       "      <td>75%</td>\n",
       "      <td>52.000000</td>\n",
       "      <td>47.000000</td>\n",
       "      <td>11.550000</td>\n",
       "      <td>43.000000</td>\n",
       "    </tr>\n",
       "    <tr>\n",
       "      <td>max</td>\n",
       "      <td>529.000000</td>\n",
       "      <td>586.000000</td>\n",
       "      <td>210.210000</td>\n",
       "      <td>88.000000</td>\n",
       "    </tr>\n",
       "  </tbody>\n",
       "</table>\n",
       "</div>"
      ],
      "text/plain": [
       "           Duration     Net Sales  Commision (in value)           Age\n",
       "count  12661.000000  12661.000000          12661.000000  12661.000000\n",
       "mean      47.796304     40.148315              9.716776     39.375563\n",
       "std       72.948089     48.686831             19.401245     11.571166\n",
       "min       -1.000000   -357.500000              0.000000      1.000000\n",
       "25%        9.000000     18.000000              0.000000     35.000000\n",
       "50%       22.000000     26.500000              0.000000     36.000000\n",
       "75%       52.000000     47.000000             11.550000     43.000000\n",
       "max      529.000000    586.000000            210.210000     88.000000"
      ]
     },
     "execution_count": 18,
     "metadata": {},
     "output_type": "execute_result"
    }
   ],
   "source": [
    "df_test.describe()"
   ]
  },
  {
   "cell_type": "code",
   "execution_count": 19,
   "metadata": {},
   "outputs": [
    {
     "data": {
      "text/plain": [
       "Duration                3.172837\n",
       "Net Sales               3.328243\n",
       "Commision (in value)    4.078189\n",
       "Age                     1.706887\n",
       "dtype: float64"
      ]
     },
     "execution_count": 19,
     "metadata": {},
     "output_type": "execute_result"
    }
   ],
   "source": [
    "predictors.skew()"
   ]
  },
  {
   "cell_type": "markdown",
   "metadata": {},
   "source": [
    "### Find Correlation between Features\n",
    "\n",
    "A correlation heatmap uses colored cells, typically in a monochromatic scale, to show a 2D correlation matrix (table) between two discrete dimensions or event types. The color value of the cells is proportional to the number of measurements that match the dimensional values.\n",
    "\n",
    "- Wrote a function that will plot a heatmap using seaborn to depict the pearson correlation of all the numeric features."
   ]
  },
  {
   "cell_type": "code",
   "execution_count": 52,
   "metadata": {},
   "outputs": [
    {
     "name": "stdout",
     "output_type": "stream",
     "text": [
      "Highly Correlated Variables\n"
     ]
    },
    {
     "data": {
      "text/plain": [
       "Series([], dtype: float64)"
      ]
     },
     "execution_count": 52,
     "metadata": {},
     "output_type": "execute_result"
    },
    {
     "data": {
      "image/png": "[encoded data removed]",
      "text/plain": [
       "<Figure size 1008x1440 with 2 Axes>"
      ]
     },
     "metadata": {
      "needs_background": "light"
     },
     "output_type": "display_data"
    }
   ],
   "source": [
    "#correlation heatmap of dataset\n",
    "def correlation_heatmap(df):\n",
    "    _ , ax = plt.subplots(figsize =(14, 20))\n",
    "    colormap = sns.diverging_palette(220, 10, as_cmap = True)\n",
    "    \n",
    "    _ = sns.heatmap(\n",
    "        df.corr(), \n",
    "        cmap = 'viridis',\n",
    "        square=True, \n",
    "        cbar_kws={'shrink':.9 }, \n",
    "        ax=ax,\n",
    "        annot=True, \n",
    "        linewidths=0.1,vmax=1.0, linecolor='white',\n",
    "        annot_kws={'fontsize':12 }\n",
    "    )\n",
    "    \n",
    "    plt.title('Pearson Correlation of Features', y=1.05, size=15)\n",
    "    \n",
    "    correlation = df.corr().unstack().sort_values(kind='quicksort')\n",
    "    print('Highly Correlated Variables')\n",
    "    return correlation[((correlation>=0.75) | (correlation<=-0.75)) & (correlation!=1)]\n",
    "\n",
    "correlation_heatmap(predictors)"
   ]
  },
  {
   "cell_type": "code",
   "execution_count": 21,
   "metadata": {},
   "outputs": [],
   "source": [
    "numeric_col=predictors.select_dtypes(include=['number']).columns"
   ]
  },
  {
   "cell_type": "markdown",
   "metadata": {},
   "source": [
    "### Label Encode Categorical variables\n",
    "\n",
    "Since our machine learning algorithm can only read numerical values, it is essential to encode categorical features into numerical values.\n",
    "\n",
    "- Wrote a function that will perform label encoding on all the categorical features and also the target (if it is categorical) in the  dataset."
   ]
  },
  {
   "cell_type": "code",
   "execution_count": 22,
   "metadata": {},
   "outputs": [],
   "source": [
    "from sklearn.preprocessing import RobustScaler, StandardScaler\n",
    "scaler=RobustScaler()\n",
    "\n",
    "for cols in predictors.select_dtypes(exclude='object'):\n",
    "    predictors[cols]=scaler.fit_transform(predictors[cols].values.reshape(-1,1))\n",
    "    df_test[cols]=scaler.transform(df_test[cols].values.reshape(-1,1))"
   ]
  },
  {
   "cell_type": "code",
   "execution_count": 23,
   "metadata": {},
   "outputs": [
    {
     "data": {
      "text/html": [
       "<div>\n",
       "<style scoped>\n",
       "    .dataframe tbody tr th:only-of-type {\n",
       "        vertical-align: middle;\n",
       "    }\n",
       "\n",
       "    .dataframe tbody tr th {\n",
       "        vertical-align: top;\n",
       "    }\n",
       "\n",
       "    .dataframe thead th {\n",
       "        text-align: right;\n",
       "    }\n",
       "</style>\n",
       "<table border=\"1\" class=\"dataframe\">\n",
       "  <thead>\n",
       "    <tr style=\"text-align: right;\">\n",
       "      <th></th>\n",
       "      <th>Agency</th>\n",
       "      <th>Agency Type</th>\n",
       "      <th>Distribution Channel</th>\n",
       "      <th>Product Name</th>\n",
       "      <th>Duration</th>\n",
       "      <th>Destination</th>\n",
       "      <th>Net Sales</th>\n",
       "      <th>Commision (in value)</th>\n",
       "      <th>Age</th>\n",
       "    </tr>\n",
       "  </thead>\n",
       "  <tbody>\n",
       "    <tr>\n",
       "      <td>0</td>\n",
       "      <td>CWT</td>\n",
       "      <td>Travel Agency</td>\n",
       "      <td>Online</td>\n",
       "      <td>Rental Vehicle Excess Insurance</td>\n",
       "      <td>0.818182</td>\n",
       "      <td>ICELAND</td>\n",
       "      <td>0.766667</td>\n",
       "      <td>2.571429</td>\n",
       "      <td>1.222222</td>\n",
       "    </tr>\n",
       "    <tr>\n",
       "      <td>1</td>\n",
       "      <td>EPX</td>\n",
       "      <td>Travel Agency</td>\n",
       "      <td>Online</td>\n",
       "      <td>2 way Comprehensive Plan</td>\n",
       "      <td>-0.409091</td>\n",
       "      <td>SINGAPORE</td>\n",
       "      <td>-0.216667</td>\n",
       "      <td>0.000000</td>\n",
       "      <td>-1.333333</td>\n",
       "    </tr>\n",
       "    <tr>\n",
       "      <td>2</td>\n",
       "      <td>EPX</td>\n",
       "      <td>Travel Agency</td>\n",
       "      <td>Online</td>\n",
       "      <td>2 way Comprehensive Plan</td>\n",
       "      <td>1.045455</td>\n",
       "      <td>VIET NAM</td>\n",
       "      <td>-0.216667</td>\n",
       "      <td>0.000000</td>\n",
       "      <td>0.000000</td>\n",
       "    </tr>\n",
       "    <tr>\n",
       "      <td>3</td>\n",
       "      <td>EPX</td>\n",
       "      <td>Travel Agency</td>\n",
       "      <td>Online</td>\n",
       "      <td>2 way Comprehensive Plan</td>\n",
       "      <td>0.431818</td>\n",
       "      <td>CHINA</td>\n",
       "      <td>0.050000</td>\n",
       "      <td>0.000000</td>\n",
       "      <td>0.000000</td>\n",
       "    </tr>\n",
       "    <tr>\n",
       "      <td>4</td>\n",
       "      <td>EPX</td>\n",
       "      <td>Travel Agency</td>\n",
       "      <td>Online</td>\n",
       "      <td>Cancellation Plan</td>\n",
       "      <td>-0.136364</td>\n",
       "      <td>SINGAPORE</td>\n",
       "      <td>-0.516667</td>\n",
       "      <td>0.000000</td>\n",
       "      <td>0.000000</td>\n",
       "    </tr>\n",
       "  </tbody>\n",
       "</table>\n",
       "</div>"
      ],
      "text/plain": [
       "  Agency    Agency Type Distribution Channel                     Product Name  \\\n",
       "0    CWT  Travel Agency               Online  Rental Vehicle Excess Insurance   \n",
       "1    EPX  Travel Agency               Online         2 way Comprehensive Plan   \n",
       "2    EPX  Travel Agency               Online         2 way Comprehensive Plan   \n",
       "3    EPX  Travel Agency               Online         2 way Comprehensive Plan   \n",
       "4    EPX  Travel Agency               Online                Cancellation Plan   \n",
       "\n",
       "   Duration Destination  Net Sales  Commision (in value)       Age  \n",
       "0  0.818182     ICELAND   0.766667              2.571429  1.222222  \n",
       "1 -0.409091   SINGAPORE  -0.216667              0.000000 -1.333333  \n",
       "2  1.045455    VIET NAM  -0.216667              0.000000  0.000000  \n",
       "3  0.431818       CHINA   0.050000              0.000000  0.000000  \n",
       "4 -0.136364   SINGAPORE  -0.516667              0.000000  0.000000  "
      ]
     },
     "execution_count": 23,
     "metadata": {},
     "output_type": "execute_result"
    }
   ],
   "source": [
    "df_test.head()"
   ]
  },
  {
   "cell_type": "code",
   "execution_count": 24,
   "metadata": {},
   "outputs": [],
   "source": [
    "columnsToEncode = list(predictors.select_dtypes(include=['category','object']))\n",
    "le = LabelEncoder()\n",
    "for cols in columnsToEncode:\n",
    "    predictors[cols]=le.fit_transform(predictors[cols])\n",
    "    df_test[cols]=le.transform(df_test[cols])       "
   ]
  },
  {
   "cell_type": "code",
   "execution_count": 25,
   "metadata": {},
   "outputs": [
    {
     "data": {
      "text/html": [
       "<div>\n",
       "<style scoped>\n",
       "    .dataframe tbody tr th:only-of-type {\n",
       "        vertical-align: middle;\n",
       "    }\n",
       "\n",
       "    .dataframe tbody tr th {\n",
       "        vertical-align: top;\n",
       "    }\n",
       "\n",
       "    .dataframe thead th {\n",
       "        text-align: right;\n",
       "    }\n",
       "</style>\n",
       "<table border=\"1\" class=\"dataframe\">\n",
       "  <thead>\n",
       "    <tr style=\"text-align: right;\">\n",
       "      <th></th>\n",
       "      <th>Agency</th>\n",
       "      <th>Agency Type</th>\n",
       "      <th>Distribution Channel</th>\n",
       "      <th>Product Name</th>\n",
       "      <th>Duration</th>\n",
       "      <th>Destination</th>\n",
       "      <th>Net Sales</th>\n",
       "      <th>Commision (in value)</th>\n",
       "      <th>Age</th>\n",
       "    </tr>\n",
       "  </thead>\n",
       "  <tbody>\n",
       "    <tr>\n",
       "      <td>0</td>\n",
       "      <td>6</td>\n",
       "      <td>1</td>\n",
       "      <td>1</td>\n",
       "      <td>16</td>\n",
       "      <td>-0.340909</td>\n",
       "      <td>56</td>\n",
       "      <td>-0.883333</td>\n",
       "      <td>1.542857</td>\n",
       "      <td>-0.555556</td>\n",
       "    </tr>\n",
       "    <tr>\n",
       "      <td>1</td>\n",
       "      <td>7</td>\n",
       "      <td>1</td>\n",
       "      <td>1</td>\n",
       "      <td>10</td>\n",
       "      <td>1.431818</td>\n",
       "      <td>79</td>\n",
       "      <td>1.416667</td>\n",
       "      <td>0.000000</td>\n",
       "      <td>0.000000</td>\n",
       "    </tr>\n",
       "    <tr>\n",
       "      <td>2</td>\n",
       "      <td>6</td>\n",
       "      <td>1</td>\n",
       "      <td>1</td>\n",
       "      <td>16</td>\n",
       "      <td>-0.250000</td>\n",
       "      <td>56</td>\n",
       "      <td>-0.223333</td>\n",
       "      <td>1.028571</td>\n",
       "      <td>4.333333</td>\n",
       "    </tr>\n",
       "    <tr>\n",
       "      <td>3</td>\n",
       "      <td>7</td>\n",
       "      <td>1</td>\n",
       "      <td>1</td>\n",
       "      <td>1</td>\n",
       "      <td>-0.136364</td>\n",
       "      <td>38</td>\n",
       "      <td>-0.216667</td>\n",
       "      <td>0.000000</td>\n",
       "      <td>-0.444444</td>\n",
       "    </tr>\n",
       "    <tr>\n",
       "      <td>4</td>\n",
       "      <td>7</td>\n",
       "      <td>1</td>\n",
       "      <td>1</td>\n",
       "      <td>10</td>\n",
       "      <td>-0.272727</td>\n",
       "      <td>47</td>\n",
       "      <td>-0.383333</td>\n",
       "      <td>0.000000</td>\n",
       "      <td>-0.777778</td>\n",
       "    </tr>\n",
       "  </tbody>\n",
       "</table>\n",
       "</div>"
      ],
      "text/plain": [
       "   Agency  Agency Type  Distribution Channel  Product Name  Duration  \\\n",
       "0       6            1                     1            16 -0.340909   \n",
       "1       7            1                     1            10  1.431818   \n",
       "2       6            1                     1            16 -0.250000   \n",
       "3       7            1                     1             1 -0.136364   \n",
       "4       7            1                     1            10 -0.272727   \n",
       "\n",
       "   Destination  Net Sales  Commision (in value)       Age  \n",
       "0           56  -0.883333              1.542857 -0.555556  \n",
       "1           79   1.416667              0.000000  0.000000  \n",
       "2           56  -0.223333              1.028571  4.333333  \n",
       "3           38  -0.216667              0.000000 -0.444444  \n",
       "4           47  -0.383333              0.000000 -0.777778  "
      ]
     },
     "execution_count": 25,
     "metadata": {},
     "output_type": "execute_result"
    }
   ],
   "source": [
    "predictors.head()"
   ]
  },
  {
   "cell_type": "code",
   "execution_count": 26,
   "metadata": {
    "scrolled": true
   },
   "outputs": [
    {
     "data": {
      "text/html": [
       "<div>\n",
       "<style scoped>\n",
       "    .dataframe tbody tr th:only-of-type {\n",
       "        vertical-align: middle;\n",
       "    }\n",
       "\n",
       "    .dataframe tbody tr th {\n",
       "        vertical-align: top;\n",
       "    }\n",
       "\n",
       "    .dataframe thead th {\n",
       "        text-align: right;\n",
       "    }\n",
       "</style>\n",
       "<table border=\"1\" class=\"dataframe\">\n",
       "  <thead>\n",
       "    <tr style=\"text-align: right;\">\n",
       "      <th></th>\n",
       "      <th>Agency</th>\n",
       "      <th>Agency Type</th>\n",
       "      <th>Distribution Channel</th>\n",
       "      <th>Product Name</th>\n",
       "      <th>Duration</th>\n",
       "      <th>Destination</th>\n",
       "      <th>Net Sales</th>\n",
       "      <th>Commision (in value)</th>\n",
       "      <th>Age</th>\n",
       "    </tr>\n",
       "  </thead>\n",
       "  <tbody>\n",
       "    <tr>\n",
       "      <td>0</td>\n",
       "      <td>6</td>\n",
       "      <td>1</td>\n",
       "      <td>1</td>\n",
       "      <td>16</td>\n",
       "      <td>0.818182</td>\n",
       "      <td>36</td>\n",
       "      <td>0.766667</td>\n",
       "      <td>2.571429</td>\n",
       "      <td>1.222222</td>\n",
       "    </tr>\n",
       "    <tr>\n",
       "      <td>1</td>\n",
       "      <td>7</td>\n",
       "      <td>1</td>\n",
       "      <td>1</td>\n",
       "      <td>1</td>\n",
       "      <td>-0.409091</td>\n",
       "      <td>79</td>\n",
       "      <td>-0.216667</td>\n",
       "      <td>0.000000</td>\n",
       "      <td>-1.333333</td>\n",
       "    </tr>\n",
       "    <tr>\n",
       "      <td>2</td>\n",
       "      <td>7</td>\n",
       "      <td>1</td>\n",
       "      <td>1</td>\n",
       "      <td>1</td>\n",
       "      <td>1.045455</td>\n",
       "      <td>100</td>\n",
       "      <td>-0.216667</td>\n",
       "      <td>0.000000</td>\n",
       "      <td>0.000000</td>\n",
       "    </tr>\n",
       "    <tr>\n",
       "      <td>3</td>\n",
       "      <td>7</td>\n",
       "      <td>1</td>\n",
       "      <td>1</td>\n",
       "      <td>1</td>\n",
       "      <td>0.431818</td>\n",
       "      <td>17</td>\n",
       "      <td>0.050000</td>\n",
       "      <td>0.000000</td>\n",
       "      <td>0.000000</td>\n",
       "    </tr>\n",
       "    <tr>\n",
       "      <td>4</td>\n",
       "      <td>7</td>\n",
       "      <td>1</td>\n",
       "      <td>1</td>\n",
       "      <td>10</td>\n",
       "      <td>-0.136364</td>\n",
       "      <td>79</td>\n",
       "      <td>-0.516667</td>\n",
       "      <td>0.000000</td>\n",
       "      <td>0.000000</td>\n",
       "    </tr>\n",
       "  </tbody>\n",
       "</table>\n",
       "</div>"
      ],
      "text/plain": [
       "   Agency  Agency Type  Distribution Channel  Product Name  Duration  \\\n",
       "0       6            1                     1            16  0.818182   \n",
       "1       7            1                     1             1 -0.409091   \n",
       "2       7            1                     1             1  1.045455   \n",
       "3       7            1                     1             1  0.431818   \n",
       "4       7            1                     1            10 -0.136364   \n",
       "\n",
       "   Destination  Net Sales  Commision (in value)       Age  \n",
       "0           36   0.766667              2.571429  1.222222  \n",
       "1           79  -0.216667              0.000000 -1.333333  \n",
       "2          100  -0.216667              0.000000  0.000000  \n",
       "3           17   0.050000              0.000000  0.000000  \n",
       "4           79  -0.516667              0.000000  0.000000  "
      ]
     },
     "execution_count": 26,
     "metadata": {},
     "output_type": "execute_result"
    }
   ],
   "source": [
    "df_test.head()"
   ]
  },
  {
   "cell_type": "markdown",
   "metadata": {},
   "source": [
    "# Baseline Model and Feature Engineering"
   ]
  },
  {
   "cell_type": "code",
   "execution_count": 27,
   "metadata": {},
   "outputs": [],
   "source": [
    "# Split Train dataset into training and validation data\n",
    "X_train,X_test,y_train,y_test = train_test_split(predictors, target, test_size=0.2, random_state=42)"
   ]
  },
  {
   "cell_type": "code",
   "execution_count": 28,
   "metadata": {},
   "outputs": [
    {
     "name": "stdout",
     "output_type": "stream",
     "text": [
      "              precision    recall  f1-score   support\n",
      "\n",
      "           0       0.99      1.00      0.99      9962\n",
      "           1       0.00      0.00      0.00       149\n",
      "\n",
      "    accuracy                           0.98     10111\n",
      "   macro avg       0.49      0.50      0.50     10111\n",
      "weighted avg       0.97      0.98      0.98     10111\n",
      "\n",
      "0.9848679655820394\n"
     ]
    }
   ],
   "source": [
    "model=LogisticRegression() \n",
    "model.fit(X_train,y_train)\n",
    "y_pred=model.predict(X_test)\n",
    "print(classification_report(y_test,y_pred))\n",
    "print(accuracy_score(y_test,y_pred))"
   ]
  },
  {
   "cell_type": "code",
   "execution_count": 29,
   "metadata": {
    "scrolled": true
   },
   "outputs": [],
   "source": [
    "# Applying SMOTE for dealing with class imbalance\n",
    "smote = SMOTE(kind='regular')\n",
    "X_sm, y_sm =  smote.fit_sample(predictors, target)\n",
    "\n",
    "# Split Train dataset into training and testing data after applying SMOTE\n",
    "X_train_s,X_test_s,y_train_s,y_test_s=train_test_split(X_sm,y_sm,test_size=0.2,random_state=42)"
   ]
  },
  {
   "cell_type": "markdown",
   "metadata": {},
   "source": [
    "#### Baseline Logistic Model"
   ]
  },
  {
   "cell_type": "code",
   "execution_count": 30,
   "metadata": {},
   "outputs": [
    {
     "name": "stdout",
     "output_type": "stream",
     "text": [
      "              precision    recall  f1-score   support\n",
      "\n",
      "           0       0.71      0.83      0.76     10043\n",
      "           1       0.79      0.65      0.72      9882\n",
      "\n",
      "    accuracy                           0.74     19925\n",
      "   macro avg       0.75      0.74      0.74     19925\n",
      "weighted avg       0.75      0.74      0.74     19925\n",
      "\n",
      "0.7424341279799247\n"
     ]
    }
   ],
   "source": [
    "model1=LogisticRegression() \n",
    "model1.fit(X_train_s,y_train_s)\n",
    "y_pred=model1.predict(X_test_s)\n",
    "print(classification_report(y_test_s,y_pred))\n",
    "print(accuracy_score(y_test_s,y_pred))"
   ]
  },
  {
   "cell_type": "code",
   "execution_count": 31,
   "metadata": {},
   "outputs": [],
   "source": [
    "df_pred=model1.predict(df_test)"
   ]
  },
  {
   "cell_type": "code",
   "execution_count": 32,
   "metadata": {},
   "outputs": [
    {
     "data": {
      "text/plain": [
       "array([10444,  2217], dtype=int64)"
      ]
     },
     "execution_count": 32,
     "metadata": {},
     "output_type": "execute_result"
    }
   ],
   "source": [
    "np.bincount(df_pred)"
   ]
  },
  {
   "cell_type": "markdown",
   "metadata": {},
   "source": [
    "#### Applying Other Models"
   ]
  },
  {
   "cell_type": "code",
   "execution_count": 33,
   "metadata": {
    "scrolled": false
   },
   "outputs": [
    {
     "name": "stdout",
     "output_type": "stream",
     "text": [
      "ModelLogisticRegression(C=1.0, class_weight=None, dual=False, fit_intercept=True,\n",
      "                   intercept_scaling=1, l1_ratio=None, max_iter=100,\n",
      "                   multi_class='warn', n_jobs=None, penalty='l2',\n",
      "                   random_state=None, solver='warn', tol=0.0001, verbose=0,\n",
      "                   warm_start=False)\n",
      "[10444  2217]\n",
      "              precision    recall  f1-score   support\n",
      "\n",
      "           0       0.71      0.83      0.76     10043\n",
      "           1       0.79      0.65      0.72      9882\n",
      "\n",
      "    accuracy                           0.74     19925\n",
      "   macro avg       0.75      0.74      0.74     19925\n",
      "weighted avg       0.75      0.74      0.74     19925\n",
      "\n",
      "[[8328 1715]\n",
      " [3417 6465]]\n",
      "================================================================================\n",
      "ModelDecisionTreeClassifier(class_weight=None, criterion='gini', max_depth=None,\n",
      "                       max_features=None, max_leaf_nodes=None,\n",
      "                       min_impurity_decrease=0.0, min_impurity_split=None,\n",
      "                       min_samples_leaf=1, min_samples_split=2,\n",
      "                       min_weight_fraction_leaf=0.0, presort=False,\n",
      "                       random_state=None, splitter='best')\n",
      "[12141   520]\n",
      "              precision    recall  f1-score   support\n",
      "\n",
      "           0       0.96      0.96      0.96     10043\n",
      "           1       0.96      0.96      0.96      9882\n",
      "\n",
      "    accuracy                           0.96     19925\n",
      "   macro avg       0.96      0.96      0.96     19925\n",
      "weighted avg       0.96      0.96      0.96     19925\n",
      "\n",
      "[[9598  445]\n",
      " [ 409 9473]]\n",
      "================================================================================\n",
      "ModelRandomForestClassifier(bootstrap=True, class_weight=None, criterion='gini',\n",
      "                       max_depth=6, max_features=3, max_leaf_nodes=None,\n",
      "                       min_impurity_decrease=0.0, min_impurity_split=None,\n",
      "                       min_samples_leaf=8, min_samples_split=10,\n",
      "                       min_weight_fraction_leaf=0.0, n_estimators=100,\n",
      "                       n_jobs=None, oob_score=False, random_state=2018,\n",
      "                       verbose=0, warm_start=False)\n",
      "[10598  2063]\n",
      "              precision    recall  f1-score   support\n",
      "\n",
      "           0       0.81      0.84      0.83     10043\n",
      "           1       0.84      0.80      0.82      9882\n",
      "\n",
      "    accuracy                           0.82     19925\n",
      "   macro avg       0.82      0.82      0.82     19925\n",
      "weighted avg       0.82      0.82      0.82     19925\n",
      "\n",
      "[[8483 1560]\n",
      " [1960 7922]]\n",
      "================================================================================\n"
     ]
    }
   ],
   "source": [
    "def run_model(predictor_train,target_train,predictor_test,target_test, model):\n",
    "    '''\n",
    "    Performs model training and tests using ROC-AUC \n",
    "    returns AUC score\n",
    "    '''\n",
    "    #x_train,x_val,y_train,y_val = train_test_split(predictor_train,target_train,test_size=0.2,random_state=42)\n",
    "    model.fit(predictor_train, target_train)\n",
    "    y_p=model.predict(predictor_test)\n",
    "    y_scores = model.predict(df_test)\n",
    "    #y_lr=model.predict(df_test)\n",
    "    print(np.bincount(y_scores))\n",
    "    \n",
    "    print(classification_report(target_test,y_p))\n",
    "    print(confusion_matrix(target_test,y_p))\n",
    "\n",
    "LR=LogisticRegression()\n",
    "DT=DecisionTreeClassifier()\n",
    "RFC=RandomForestClassifier(bootstrap=True, class_weight=None, criterion='gini',\n",
    "                       max_depth=6, max_features=3, max_leaf_nodes=None,\n",
    "                       min_impurity_decrease=0.0, min_impurity_split=None,\n",
    "                       min_samples_leaf=8, min_samples_split=10,\n",
    "                       min_weight_fraction_leaf=0.0, n_estimators=100,\n",
    "                       n_jobs=None, oob_score=False, random_state=2018,\n",
    "                       verbose=0, warm_start=False)\n",
    "\n",
    "models = [LR,DT,RFC]\n",
    "for model in models:\n",
    "    # run model\n",
    "    \n",
    "    print('Model'+str(model))\n",
    "    auc = run_model(X_train_s,y_train_s,X_test_s,y_test_s ,model) # train and returns AUC test score\n",
    "    \n",
    "    print('===='*20)"
   ]
  },
  {
   "cell_type": "code",
   "execution_count": 34,
   "metadata": {},
   "outputs": [
    {
     "name": "stdout",
     "output_type": "stream",
     "text": [
      "              precision    recall  f1-score   support\n",
      "\n",
      "           0       0.81      0.84      0.83     10043\n",
      "           1       0.84      0.80      0.82      9882\n",
      "\n",
      "    accuracy                           0.82     19925\n",
      "   macro avg       0.82      0.82      0.82     19925\n",
      "weighted avg       0.82      0.82      0.82     19925\n",
      "\n",
      "ROC_AUC_Score: 0.8231637554951676\n",
      "[10598  2063]\n"
     ]
    }
   ],
   "source": [
    "RFC=RandomForestClassifier(bootstrap=True, class_weight=None, criterion='gini',\n",
    "                       max_depth=6, max_features=3, max_leaf_nodes=None,\n",
    "                       min_impurity_decrease=0.0, min_impurity_split=None,\n",
    "                       min_samples_leaf=8, min_samples_split=10,\n",
    "                       min_weight_fraction_leaf=0.0, n_estimators=100,\n",
    "                       n_jobs=None, oob_score=False, random_state=2018,\n",
    "                       verbose=0, warm_start=False)\n",
    "\n",
    "RFC.fit(X_train_s,y_train_s)\n",
    "y_p=RFC.predict(X_test_s)\n",
    "roc_auc_pred=roc_auc_score(y_test_s,y_p)\n",
    "y_test_pred=RFC.predict(df_test)\n",
    "\n",
    "print(classification_report(y_test_s,y_p))\n",
    "print('ROC_AUC_Score:',roc_auc_pred)\n",
    "print(np.bincount(y_test_pred))"
   ]
  },
  {
   "cell_type": "code",
   "execution_count": 35,
   "metadata": {},
   "outputs": [],
   "source": [
    "#test_df_chk=pd.DataFrame(y_test_pred)\n",
    "#test_df_chk.to_csv('chk1.csv')"
   ]
  },
  {
   "cell_type": "markdown",
   "metadata": {},
   "source": [
    "## Feature Selection"
   ]
  },
  {
   "cell_type": "markdown",
   "metadata": {},
   "source": [
    "###  Using RFE for feature selection\n",
    "Recursive Feature Elimination is used for selecting the best features.\n",
    "\n",
    "- The function below takes the number of features as a parameter and uses RFE for each of the specific models - LogisticRegression,DecisionTreeClassifier,RandomForestClassifier and outputs the best features for each model.\n"
   ]
  },
  {
   "cell_type": "code",
   "execution_count": 36,
   "metadata": {},
   "outputs": [
    {
     "name": "stdout",
     "output_type": "stream",
     "text": [
      "Features  to be selected for LogisticRegression(C=1.0, class_weight=None, dual=False, fit_intercept=True,\n",
      "                   intercept_scaling=1, l1_ratio=None, max_iter=100,\n",
      "                   multi_class='warn', n_jobs=None, penalty='l2',\n",
      "                   random_state=None, solver='warn', tol=0.0001, verbose=0,\n",
      "                   warm_start=False)\n",
      "['Agency', 'Agency Type', 'Distribution Channel', 'Duration', 'Net Sales', 'Commision (in value)', 'Age']\n",
      "========================================================================================================================\n",
      "Features  to be selected for DecisionTreeClassifier(class_weight=None, criterion='gini', max_depth=None,\n",
      "                       max_features=None, max_leaf_nodes=None,\n",
      "                       min_impurity_decrease=0.0, min_impurity_split=None,\n",
      "                       min_samples_leaf=1, min_samples_split=2,\n",
      "                       min_weight_fraction_leaf=0.0, presort=False,\n",
      "                       random_state=None, splitter='best')\n",
      "['Agency', 'Product Name', 'Duration', 'Destination', 'Net Sales', 'Commision (in value)', 'Age']\n",
      "========================================================================================================================\n",
      "Features  to be selected for RandomForestClassifier(bootstrap=True, class_weight=None, criterion='gini',\n",
      "                       max_depth=None, max_features='auto', max_leaf_nodes=None,\n",
      "                       min_impurity_decrease=0.0, min_impurity_split=None,\n",
      "                       min_samples_leaf=1, min_samples_split=2,\n",
      "                       min_weight_fraction_leaf=0.0, n_estimators='warn',\n",
      "                       n_jobs=None, oob_score=False, random_state=None,\n",
      "                       verbose=0, warm_start=False)\n",
      "['Agency', 'Product Name', 'Duration', 'Destination', 'Net Sales', 'Commision (in value)', 'Age']\n",
      "========================================================================================================================\n"
     ]
    }
   ],
   "source": [
    "def feature_selection(dataframe,target,number_of_features,model):\n",
    "    X = dataframe\n",
    "    y = target\n",
    "\n",
    "    models = model()\n",
    "    rfe = RFE(models,number_of_features)\n",
    "    rfe = rfe.fit(X,y)\n",
    "    print('Features  to be selected for {}'.format(str(models)))\n",
    "    features = pd.Series(rfe.ranking_, index=X.columns)\n",
    "    print(features[features.values==1].index.tolist())\n",
    "    print('===='*30)\n",
    "\n",
    "# Choosing the models\n",
    "models = [LogisticRegression,DecisionTreeClassifier,RandomForestClassifier]\n",
    "\n",
    "# Selecting 8 number of features\n",
    "for i in models:\n",
    "    feature_selection(X_train,y_train,7,i)"
   ]
  },
  {
   "cell_type": "code",
   "execution_count": 37,
   "metadata": {},
   "outputs": [],
   "source": [
    "X_rfe=predictors.drop(['Agency Type','Distribution Channel'],1)"
   ]
  },
  {
   "cell_type": "code",
   "execution_count": 38,
   "metadata": {},
   "outputs": [
    {
     "data": {
      "text/html": [
       "<div>\n",
       "<style scoped>\n",
       "    .dataframe tbody tr th:only-of-type {\n",
       "        vertical-align: middle;\n",
       "    }\n",
       "\n",
       "    .dataframe tbody tr th {\n",
       "        vertical-align: top;\n",
       "    }\n",
       "\n",
       "    .dataframe thead th {\n",
       "        text-align: right;\n",
       "    }\n",
       "</style>\n",
       "<table border=\"1\" class=\"dataframe\">\n",
       "  <thead>\n",
       "    <tr style=\"text-align: right;\">\n",
       "      <th></th>\n",
       "      <th>Agency</th>\n",
       "      <th>Product Name</th>\n",
       "      <th>Duration</th>\n",
       "      <th>Destination</th>\n",
       "      <th>Net Sales</th>\n",
       "      <th>Commision (in value)</th>\n",
       "      <th>Age</th>\n",
       "    </tr>\n",
       "  </thead>\n",
       "  <tbody>\n",
       "    <tr>\n",
       "      <td>0</td>\n",
       "      <td>6</td>\n",
       "      <td>16</td>\n",
       "      <td>-0.340909</td>\n",
       "      <td>56</td>\n",
       "      <td>-0.883333</td>\n",
       "      <td>1.542857</td>\n",
       "      <td>-0.555556</td>\n",
       "    </tr>\n",
       "    <tr>\n",
       "      <td>1</td>\n",
       "      <td>7</td>\n",
       "      <td>10</td>\n",
       "      <td>1.431818</td>\n",
       "      <td>79</td>\n",
       "      <td>1.416667</td>\n",
       "      <td>0.000000</td>\n",
       "      <td>0.000000</td>\n",
       "    </tr>\n",
       "    <tr>\n",
       "      <td>2</td>\n",
       "      <td>6</td>\n",
       "      <td>16</td>\n",
       "      <td>-0.250000</td>\n",
       "      <td>56</td>\n",
       "      <td>-0.223333</td>\n",
       "      <td>1.028571</td>\n",
       "      <td>4.333333</td>\n",
       "    </tr>\n",
       "    <tr>\n",
       "      <td>3</td>\n",
       "      <td>7</td>\n",
       "      <td>1</td>\n",
       "      <td>-0.136364</td>\n",
       "      <td>38</td>\n",
       "      <td>-0.216667</td>\n",
       "      <td>0.000000</td>\n",
       "      <td>-0.444444</td>\n",
       "    </tr>\n",
       "    <tr>\n",
       "      <td>4</td>\n",
       "      <td>7</td>\n",
       "      <td>10</td>\n",
       "      <td>-0.272727</td>\n",
       "      <td>47</td>\n",
       "      <td>-0.383333</td>\n",
       "      <td>0.000000</td>\n",
       "      <td>-0.777778</td>\n",
       "    </tr>\n",
       "  </tbody>\n",
       "</table>\n",
       "</div>"
      ],
      "text/plain": [
       "   Agency  Product Name  Duration  Destination  Net Sales  \\\n",
       "0       6            16 -0.340909           56  -0.883333   \n",
       "1       7            10  1.431818           79   1.416667   \n",
       "2       6            16 -0.250000           56  -0.223333   \n",
       "3       7             1 -0.136364           38  -0.216667   \n",
       "4       7            10 -0.272727           47  -0.383333   \n",
       "\n",
       "   Commision (in value)       Age  \n",
       "0              1.542857 -0.555556  \n",
       "1              0.000000  0.000000  \n",
       "2              1.028571  4.333333  \n",
       "3              0.000000 -0.444444  \n",
       "4              0.000000 -0.777778  "
      ]
     },
     "execution_count": 38,
     "metadata": {},
     "output_type": "execute_result"
    }
   ],
   "source": [
    "X_rfe.head()"
   ]
  },
  {
   "cell_type": "code",
   "execution_count": 39,
   "metadata": {},
   "outputs": [],
   "source": [
    "sm=SMOTE()\n",
    "X_rfe_s,y_s=sm.fit_sample(X_rfe,target)"
   ]
  },
  {
   "cell_type": "code",
   "execution_count": 40,
   "metadata": {},
   "outputs": [],
   "source": [
    "X_train_rs,X_test_rs,y_train_rs,y_test_rs=train_test_split(X_rfe_s,y_s,random_state=6,test_size=0.2)"
   ]
  },
  {
   "cell_type": "code",
   "execution_count": 41,
   "metadata": {},
   "outputs": [],
   "source": [
    "df_test_rfe=df_test.drop(['Agency Type','Distribution Channel'],1)"
   ]
  },
  {
   "cell_type": "code",
   "execution_count": 42,
   "metadata": {},
   "outputs": [
    {
     "name": "stdout",
     "output_type": "stream",
     "text": [
      "              precision    recall  f1-score   support\n",
      "\n",
      "           0       0.81      0.85      0.83      9959\n",
      "           1       0.84      0.80      0.82      9966\n",
      "\n",
      "    accuracy                           0.83     19925\n",
      "   macro avg       0.83      0.83      0.83     19925\n",
      "weighted avg       0.83      0.83      0.83     19925\n",
      "\n",
      "ROC_AUC_Score: 0.8262077608703411\n",
      "[10661  2000]\n"
     ]
    }
   ],
   "source": [
    "RFC=RandomForestClassifier(bootstrap=True, class_weight=None, criterion='gini',\n",
    "                       max_depth=6, max_features=3, max_leaf_nodes=None,\n",
    "                       min_impurity_decrease=0.0, min_impurity_split=None,\n",
    "                       min_samples_leaf=8, min_samples_split=10,\n",
    "                       min_weight_fraction_leaf=0.0, n_estimators=100,\n",
    "                       n_jobs=None, oob_score=False, random_state=2018,\n",
    "                       verbose=0, warm_start=False)\n",
    "\n",
    "RFC.fit(X_train_rs,y_train_rs)\n",
    "y_p_rs=RFC.predict(X_test_rs)\n",
    "roc_auc_pred=roc_auc_score(y_test_rs,y_p_rs)\n",
    "y_test_pred=RFC.predict(df_test_rfe)\n",
    "\n",
    "print(classification_report(y_test_rs,y_p_rs))\n",
    "print('ROC_AUC_Score:',roc_auc_pred)\n",
    "print(np.bincount(y_test_pred))"
   ]
  },
  {
   "cell_type": "code",
   "execution_count": 43,
   "metadata": {},
   "outputs": [],
   "source": [
    "#from sklearn.ensemble import RandomForestClassifier\n",
    "#from sklearn.model_selection import GridSearchCV\n",
    "#from sklearn.metrics import make_scorer\n",
    "#from sklearn.model_selection import StratifiedKFold\n",
    "\n",
    "#cv = StratifiedKFold(n_splits = 5, shuffle=True, random_state = 42)\n",
    "\n",
    "#rdf = RandomForestClassifier(random_state = 42) \n",
    "#scoring = {'precision_score': make_scorer(precision_score),\n",
    "#            'Recall': make_scorer(recall_score),\n",
    "#           'f1_score': make_scorer(f1_score)\n",
    "#           }\n",
    "\n",
    "#params = {'max_depth': [6, 15, 20,50,100], \n",
    "#              'min_samples_split': [10, 15,50,100],\n",
    "#              'min_samples_leaf' : [8, 12,50,100],\n",
    "#               'n_estimators' : [100, 200, 300],\n",
    "#               'max_features': [3,6,9]\n",
    "#              }\n",
    "\n",
    "#grid_clf = GridSearchCV(estimator = rdf, param_grid = params, cv = cv, n_jobs=-1, verbose=4)\n",
    "#grid_clf.fit(X,y)"
   ]
  },
  {
   "cell_type": "code",
   "execution_count": 44,
   "metadata": {},
   "outputs": [],
   "source": [
    "# print(grid_clf.best_estimator_)\n",
    "# print(grid_clf.best_params_)"
   ]
  },
  {
   "cell_type": "code",
   "execution_count": 45,
   "metadata": {},
   "outputs": [],
   "source": [
    "# Output: {'max_depth': 6, 'max_features': 3, 'min_samples_leaf': 8, 'min_samples_split': 10, 'n_estimators': 100}\n"
   ]
  },
  {
   "cell_type": "markdown",
   "metadata": {},
   "source": [
    "### Grid Search using Logistic Regression"
   ]
  },
  {
   "cell_type": "code",
   "execution_count": 46,
   "metadata": {},
   "outputs": [
    {
     "name": "stdout",
     "output_type": "stream",
     "text": [
      "On Validation Data\n",
      "ROC_AUC_SCORE is  0.7408149771413459\n",
      "              precision    recall  f1-score   support\n",
      "\n",
      "           0       0.71      0.82      0.76      7960\n",
      "           1       0.79      0.66      0.72      7980\n",
      "\n",
      "    accuracy                           0.74     15940\n",
      "   macro avg       0.75      0.74      0.74     15940\n",
      "weighted avg       0.75      0.74      0.74     15940\n",
      "\n"
     ]
    },
    {
     "data": {
      "image/png": "[encoded data removed]",
      "text/plain": [
       "<Figure size 432x288 with 1 Axes>"
      ]
     },
     "metadata": {
      "needs_background": "light"
     },
     "output_type": "display_data"
    },
    {
     "name": "stdout",
     "output_type": "stream",
     "text": [
      "LogisticRegression(C=0.0007196856730011522, class_weight=None, dual=False,\n",
      "                   fit_intercept=True, intercept_scaling=1, l1_ratio=None,\n",
      "                   max_iter=100, multi_class='warn', n_jobs=None, penalty='l2',\n",
      "                   random_state=None, solver='warn', tol=0.0001, verbose=0,\n",
      "                   warm_start=False)\n",
      "{'C': 0.0007196856730011522}\n"
     ]
    }
   ],
   "source": [
    "def grid_search_log_reg(dataframe,target):\n",
    "    X = dataframe\n",
    "    y = target\n",
    "    \n",
    "    smote = SMOTE(kind='regular')\n",
    "    X_sm, y_sm =  smote.fit_sample(X, y)\n",
    "    x_train,x_val,y_train,y_val = train_test_split(X_sm, y_sm, test_size=0.2, random_state=42)\n",
    "    \n",
    "    log_reg = LogisticRegression()\n",
    "    \n",
    "    param_grid = { \n",
    "        'C' : np.logspace(-5, 8, 15)\n",
    "    }\n",
    "    grid_search = GridSearchCV(log_reg, param_grid=param_grid)\n",
    "    \n",
    "    grid_search.fit(x_train, y_train)\n",
    "    y_pred = grid_search.predict(x_val)\n",
    "    false_positive_rate, true_positive_rate, thresholds = roc_curve(y_val, y_pred)\n",
    "    print('On Validation Data')\n",
    "    print('ROC_AUC_SCORE is ',roc_auc_score(y_val, y_pred))\n",
    "    print(classification_report(y_val, y_pred))\n",
    "    plt.clf()\n",
    "    plt.plot(false_positive_rate, true_positive_rate)\n",
    "    plt.xlabel('FPR')\n",
    "    plt.ylabel('TPR')\n",
    "    plt.title('ROC curve')\n",
    "    plt.show()\n",
    "    \n",
    "    print(grid_search.best_estimator_)\n",
    "    print(grid_search.best_params_)\n",
    "\n",
    "grid_search_log_reg(X_train,y_train)"
   ]
  },
  {
   "cell_type": "code",
   "execution_count": 47,
   "metadata": {},
   "outputs": [
    {
     "data": {
      "text/html": [
       "<div>\n",
       "<style scoped>\n",
       "    .dataframe tbody tr th:only-of-type {\n",
       "        vertical-align: middle;\n",
       "    }\n",
       "\n",
       "    .dataframe tbody tr th {\n",
       "        vertical-align: top;\n",
       "    }\n",
       "\n",
       "    .dataframe thead th {\n",
       "        text-align: right;\n",
       "    }\n",
       "</style>\n",
       "<table border=\"1\" class=\"dataframe\">\n",
       "  <thead>\n",
       "    <tr style=\"text-align: right;\">\n",
       "      <th></th>\n",
       "      <th>Agency</th>\n",
       "      <th>Product Name</th>\n",
       "      <th>Duration</th>\n",
       "      <th>Destination</th>\n",
       "      <th>Net Sales</th>\n",
       "      <th>Commision (in value)</th>\n",
       "      <th>Age</th>\n",
       "    </tr>\n",
       "  </thead>\n",
       "  <tbody>\n",
       "    <tr>\n",
       "      <td>0</td>\n",
       "      <td>6</td>\n",
       "      <td>16</td>\n",
       "      <td>-0.340909</td>\n",
       "      <td>56</td>\n",
       "      <td>-0.883333</td>\n",
       "      <td>1.542857</td>\n",
       "      <td>-0.555556</td>\n",
       "    </tr>\n",
       "    <tr>\n",
       "      <td>1</td>\n",
       "      <td>7</td>\n",
       "      <td>10</td>\n",
       "      <td>1.431818</td>\n",
       "      <td>79</td>\n",
       "      <td>1.416667</td>\n",
       "      <td>0.000000</td>\n",
       "      <td>0.000000</td>\n",
       "    </tr>\n",
       "    <tr>\n",
       "      <td>2</td>\n",
       "      <td>6</td>\n",
       "      <td>16</td>\n",
       "      <td>-0.250000</td>\n",
       "      <td>56</td>\n",
       "      <td>-0.223333</td>\n",
       "      <td>1.028571</td>\n",
       "      <td>4.333333</td>\n",
       "    </tr>\n",
       "    <tr>\n",
       "      <td>3</td>\n",
       "      <td>7</td>\n",
       "      <td>1</td>\n",
       "      <td>-0.136364</td>\n",
       "      <td>38</td>\n",
       "      <td>-0.216667</td>\n",
       "      <td>0.000000</td>\n",
       "      <td>-0.444444</td>\n",
       "    </tr>\n",
       "    <tr>\n",
       "      <td>4</td>\n",
       "      <td>7</td>\n",
       "      <td>10</td>\n",
       "      <td>-0.272727</td>\n",
       "      <td>47</td>\n",
       "      <td>-0.383333</td>\n",
       "      <td>0.000000</td>\n",
       "      <td>-0.777778</td>\n",
       "    </tr>\n",
       "  </tbody>\n",
       "</table>\n",
       "</div>"
      ],
      "text/plain": [
       "   Agency  Product Name  Duration  Destination  Net Sales  \\\n",
       "0       6            16 -0.340909           56  -0.883333   \n",
       "1       7            10  1.431818           79   1.416667   \n",
       "2       6            16 -0.250000           56  -0.223333   \n",
       "3       7             1 -0.136364           38  -0.216667   \n",
       "4       7            10 -0.272727           47  -0.383333   \n",
       "\n",
       "   Commision (in value)       Age  \n",
       "0              1.542857 -0.555556  \n",
       "1              0.000000  0.000000  \n",
       "2              1.028571  4.333333  \n",
       "3              0.000000 -0.444444  \n",
       "4              0.000000 -0.777778  "
      ]
     },
     "execution_count": 47,
     "metadata": {},
     "output_type": "execute_result"
    }
   ],
   "source": [
    "X_rfe.head()"
   ]
  },
  {
   "cell_type": "markdown",
   "metadata": {},
   "source": [
    "### Applying XGBoost model"
   ]
  },
  {
   "cell_type": "code",
   "execution_count": 48,
   "metadata": {},
   "outputs": [],
   "source": [
    "X_rf=predictors.drop(['Agency Type'],1)\n",
    "test_rf=df_test.drop(['Agency Type'],1)"
   ]
  },
  {
   "cell_type": "code",
   "execution_count": 49,
   "metadata": {},
   "outputs": [
    {
     "name": "stdout",
     "output_type": "stream",
     "text": [
      "On Validation Data\n",
      "Accuracy is  0.7373651191969887\n",
      "              precision    recall  f1-score   support\n",
      "\n",
      "           0       0.93      0.52      0.66     10043\n",
      "           1       0.66      0.96      0.78      9882\n",
      "\n",
      "    accuracy                           0.74     19925\n",
      "   macro avg       0.80      0.74      0.72     19925\n",
      "weighted avg       0.80      0.74      0.72     19925\n",
      "\n",
      "ROC_AUC_SCORE is  0.7391652949592606\n",
      "[[5186 4857]\n",
      " [ 376 9506]]\n",
      "True Negatives:  5186\n",
      "False Positives:  4857\n",
      "False Negatives:  376\n",
      "True Positives:  9506\n"
     ]
    },
    {
     "data": {
      "image/png": "[encoded data removed]",
      "text/plain": [
       "<Figure size 432x288 with 1 Axes>"
      ]
     },
     "metadata": {
      "needs_background": "light"
     },
     "output_type": "display_data"
    },
    {
     "name": "stdout",
     "output_type": "stream",
     "text": [
      "[6443 6218]\n"
     ]
    }
   ],
   "source": [
    "def xgboost(dataframe,target,test):\n",
    "    X = dataframe\n",
    "    y = target\n",
    "    \n",
    "    X=X.rename(columns={'Agency': 'f0','Distribution Channel':'f1','Product Name':'f2','Duration':'f3','Destination':'f4', 'Net Sales':'f5', 'Commision (in value)':'f6','Age':'f7'})\n",
    "    test=test.rename(columns={'Agency': 'f0','Distribution Channel':'f1','Product Name':'f2','Duration':'f3','Destination':'f4', 'Net Sales':'f5', 'Commision (in value)':'f6','Age':'f7'})\n",
    "    \n",
    "    smote = SMOTE(kind='regular')\n",
    "    X_sm, y_sm =  smote.fit_sample(X, y)\n",
    "    \n",
    "    x_train,x_val,y_train,y_val = train_test_split(X_sm, y_sm, test_size=0.2, random_state=42)\n",
    "    \n",
    "    model = XGBClassifier(learning_rate =0.1,n_estimators=30,max_depth=3,min_child_weight=3,subsample=0.8,colsample_bytree=0.8,nthread=5,scale_pos_weight=3,seed=27)\n",
    "    \n",
    "    model.fit(x_train, y_train)\n",
    "    \n",
    "    y_pred=model.predict(x_val)\n",
    "    \n",
    "    print('On Validation Data')\n",
    "    print('Accuracy is ',model.score(x_val, y_val))\n",
    "    print(classification_report(y_val, y_pred))\n",
    "    false_positive_rate, true_positive_rate, thresholds = roc_curve(y_val, y_pred)\n",
    "    #     print(auc(false_positive_rate, true_positive_rate))\n",
    "    \n",
    "    print('ROC_AUC_SCORE is ', roc_auc_score(y_val, y_pred))\n",
    "    plt.clf()\n",
    "    plt.plot(false_positive_rate, true_positive_rate)\n",
    "    print(confusion_matrix(y_val, y_pred))\n",
    "    tn, fp, fn, tp = confusion_matrix(y_val, y_pred).ravel()\n",
    "    print(\"True Negatives: \",tn)\n",
    "    print(\"False Positives: \",fp)\n",
    "    print(\"False Negatives: \",fn)\n",
    "    print(\"True Positives: \",tp)\n",
    "    plt.xlabel('FPR')\n",
    "    plt.ylabel('TPR')\n",
    "    plt.title('ROC curve')\n",
    "    plt.show()\n",
    "    \n",
    "    test_pred_chk=model.predict(test)\n",
    "    print(np.bincount(test_pred_chk))\n",
    "\n",
    "    test_pred_df=pd.DataFrame(test_pred_chk)\n",
    "    test_pred_df.to_csv('Chk7.csv')\n",
    "\n",
    "\n",
    "xgboost(X_rf,target,test_rf)"
   ]
  },
  {
   "cell_type": "code",
   "execution_count": 50,
   "metadata": {},
   "outputs": [
    {
     "data": {
      "text/html": [
       "<div>\n",
       "<style scoped>\n",
       "    .dataframe tbody tr th:only-of-type {\n",
       "        vertical-align: middle;\n",
       "    }\n",
       "\n",
       "    .dataframe tbody tr th {\n",
       "        vertical-align: top;\n",
       "    }\n",
       "\n",
       "    .dataframe thead th {\n",
       "        text-align: right;\n",
       "    }\n",
       "</style>\n",
       "<table border=\"1\" class=\"dataframe\">\n",
       "  <thead>\n",
       "    <tr style=\"text-align: right;\">\n",
       "      <th></th>\n",
       "      <th>Agency</th>\n",
       "      <th>Agency Type</th>\n",
       "      <th>Distribution Channel</th>\n",
       "      <th>Product Name</th>\n",
       "      <th>Duration</th>\n",
       "      <th>Destination</th>\n",
       "      <th>Net Sales</th>\n",
       "      <th>Commision (in value)</th>\n",
       "      <th>Age</th>\n",
       "    </tr>\n",
       "  </thead>\n",
       "  <tbody>\n",
       "    <tr>\n",
       "      <td>0</td>\n",
       "      <td>6</td>\n",
       "      <td>1</td>\n",
       "      <td>1</td>\n",
       "      <td>16</td>\n",
       "      <td>-0.340909</td>\n",
       "      <td>56</td>\n",
       "      <td>-0.883333</td>\n",
       "      <td>1.542857</td>\n",
       "      <td>-0.555556</td>\n",
       "    </tr>\n",
       "    <tr>\n",
       "      <td>1</td>\n",
       "      <td>7</td>\n",
       "      <td>1</td>\n",
       "      <td>1</td>\n",
       "      <td>10</td>\n",
       "      <td>1.431818</td>\n",
       "      <td>79</td>\n",
       "      <td>1.416667</td>\n",
       "      <td>0.000000</td>\n",
       "      <td>0.000000</td>\n",
       "    </tr>\n",
       "    <tr>\n",
       "      <td>2</td>\n",
       "      <td>6</td>\n",
       "      <td>1</td>\n",
       "      <td>1</td>\n",
       "      <td>16</td>\n",
       "      <td>-0.250000</td>\n",
       "      <td>56</td>\n",
       "      <td>-0.223333</td>\n",
       "      <td>1.028571</td>\n",
       "      <td>4.333333</td>\n",
       "    </tr>\n",
       "    <tr>\n",
       "      <td>3</td>\n",
       "      <td>7</td>\n",
       "      <td>1</td>\n",
       "      <td>1</td>\n",
       "      <td>1</td>\n",
       "      <td>-0.136364</td>\n",
       "      <td>38</td>\n",
       "      <td>-0.216667</td>\n",
       "      <td>0.000000</td>\n",
       "      <td>-0.444444</td>\n",
       "    </tr>\n",
       "    <tr>\n",
       "      <td>4</td>\n",
       "      <td>7</td>\n",
       "      <td>1</td>\n",
       "      <td>1</td>\n",
       "      <td>10</td>\n",
       "      <td>-0.272727</td>\n",
       "      <td>47</td>\n",
       "      <td>-0.383333</td>\n",
       "      <td>0.000000</td>\n",
       "      <td>-0.777778</td>\n",
       "    </tr>\n",
       "  </tbody>\n",
       "</table>\n",
       "</div>"
      ],
      "text/plain": [
       "   Agency  Agency Type  Distribution Channel  Product Name  Duration  \\\n",
       "0       6            1                     1            16 -0.340909   \n",
       "1       7            1                     1            10  1.431818   \n",
       "2       6            1                     1            16 -0.250000   \n",
       "3       7            1                     1             1 -0.136364   \n",
       "4       7            1                     1            10 -0.272727   \n",
       "\n",
       "   Destination  Net Sales  Commision (in value)       Age  \n",
       "0           56  -0.883333              1.542857 -0.555556  \n",
       "1           79   1.416667              0.000000  0.000000  \n",
       "2           56  -0.223333              1.028571  4.333333  \n",
       "3           38  -0.216667              0.000000 -0.444444  \n",
       "4           47  -0.383333              0.000000 -0.777778  "
      ]
     },
     "execution_count": 50,
     "metadata": {},
     "output_type": "execute_result"
    }
   ],
   "source": [
    "predictors.head()"
   ]
  },
  {
   "cell_type": "markdown",
   "metadata": {},
   "source": [
    "# Ensembling"
   ]
  },
  {
   "cell_type": "code",
   "execution_count": 51,
   "metadata": {},
   "outputs": [
    {
     "name": "stdout",
     "output_type": "stream",
     "text": [
      "On Validation Data\n",
      "AUC_ROC_SCORE is  0.8259990843259836\n",
      "              precision    recall  f1-score   support\n",
      "\n",
      "           0       0.75      0.98      0.85     10043\n",
      "           1       0.97      0.67      0.79      9882\n",
      "\n",
      "    accuracy                           0.83     19925\n",
      "   macro avg       0.86      0.83      0.82     19925\n",
      "weighted avg       0.86      0.83      0.82     19925\n",
      "\n",
      "[[9853  190]\n",
      " [3252 6630]]\n"
     ]
    },
    {
     "data": {
      "image/png": "[encoded data removed]",
      "text/plain": [
       "<Figure size 432x288 with 1 Axes>"
      ]
     },
     "metadata": {
      "needs_background": "light"
     },
     "output_type": "display_data"
    },
    {
     "name": "stdout",
     "output_type": "stream",
     "text": [
      "[12404   257]\n"
     ]
    }
   ],
   "source": [
    "from sklearn.metrics import confusion_matrix\n",
    "from sklearn.ensemble import VotingClassifier\n",
    "\n",
    "def ensemble_func2(dataframe,target,test):\n",
    "    X = dataframe\n",
    "    y = target\n",
    "    \n",
    "    smote = SMOTE(kind='regular')\n",
    "    X_sm, y_sm =  smote.fit_sample(X, y)\n",
    "    x_train,x_val,y_train,y_val = train_test_split(X_sm, y_sm, test_size=0.2, random_state=42)\n",
    "\n",
    "    model1 = RandomForestClassifier()\n",
    "    \n",
    "    model2 = LogisticRegression()\n",
    "    \n",
    "    model = VotingClassifier(estimators=[('rf', model1), ('lr', model2)], voting='hard')\n",
    "    model.fit(x_train,y_train)\n",
    "    y_pred = model.predict(x_val)\n",
    "    model.score(x_val,y_val)\n",
    "\n",
    "        \n",
    "    false_positive_rate, true_positive_rate, thresholds = roc_curve(y_val, y_pred)\n",
    "    print('On Validation Data')\n",
    "    print('AUC_ROC_SCORE is ',roc_auc_score(y_val, y_pred))\n",
    "    \n",
    "    print(classification_report(y_val, y_pred))\n",
    "    print(confusion_matrix(y_val, y_pred))\n",
    "    \n",
    "    plt.clf()\n",
    "    plt.plot(false_positive_rate, true_positive_rate)\n",
    "    plt.xlabel('FPR')\n",
    "    plt.ylabel('TPR')\n",
    "    plt.title('ROC curve')\n",
    "    plt.show()\n",
    "    \n",
    "    y_pred_test = model.predict(test)\n",
    "    print(np.bincount(y_pred_test))\n",
    "\n",
    "    #test_pred_df=pd.DataFrame(y_pred_test)\n",
    "    #test_pred_df.to_csv('Chk5.csv')\n",
    "    \n",
    "ensemble_func2(X_rfe,target,df_test_rfe)"
   ]
  }
 ],
 "metadata": {
  "kernelspec": {
   "display_name": "Python 3",
   "language": "python",
   "name": "python3"
  },
  "language_info": {
   "codemirror_mode": {
    "name": "ipython",
    "version": 3
   },
   "file_extension": ".py",
   "mimetype": "text/x-python",
   "name": "python",
   "nbconvert_exporter": "python",
   "pygments_lexer": "ipython3",
   "version": "3.7.4"
  }
 },
 "nbformat": 4,
 "nbformat_minor": 2
}
